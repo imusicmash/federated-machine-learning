{
  "cells": [
    {
      "cell_type": "markdown",
      "metadata": {
        "id": "view-in-github",
        "colab_type": "text"
      },
      "source": [
        "<a href=\"https://colab.research.google.com/github/imusicmash/federated-machine-learning/blob/main/fedml_federated_machine_learning_octopus_colab_notebook_shared.ipynb\" target=\"_parent\"><img src=\"https://colab.research.google.com/assets/colab-badge.svg\" alt=\"Open In Colab\"/></a>"
      ]
    },
    {
      "cell_type": "markdown",
      "source": [
        "This is a Colab notebook to run a simple demonstration of FedML Octopus, similar to the introducton example in our blog post [here](https://blog.fedml.ai/fedml-octopus-getting-started-federated-machine-learning/), but instead of using a Terminal window, the user can run it in Google's colab\n",
        "\n",
        "By Al Nevarez, Director of Product Management at FedML, June 2023"
      ],
      "metadata": {
        "id": "mifOrs2ZuJr-"
      }
    },
    {
      "cell_type": "markdown",
      "source": [
        "Steps covered in this colab:\n",
        "\n",
        "1. Mount your personal gdrive to this colab notebook\n",
        "1. pip install fedml\n",
        "1. git clone the fedml repo to your drive\n",
        "1. fedml build the model's client package file\n",
        "1. fedml build the models's server package file, and download the package files to your local machine\n",
        "1. on seperate browser tab, build a FedML model application and attach the 2 package files you built from colab\n",
        "1. fedml login to bind a cient edge\n",
        "1. fedml login -s to bind an aggregation server\n",
        "1. in the browser, start a project and a run\n",
        "1. in the browser, train the model\n",
        "1. Done"
      ],
      "metadata": {
        "id": "c_7lbCC1mzuK"
      }
    },
    {
      "cell_type": "code",
      "source": [
        "# Step 0\n",
        "# Make a copy of this colab notebook\n",
        "# click File > Save a copy in Drive\n",
        "# this will automatically put it in a a gdrive directory called Colab Notebooks with a prefix of \"Copy..\"\n",
        "# then goto that new notebook tab and work from there. The original notebook is read-only"
      ],
      "metadata": {
        "id": "7kmovDvxHjuQ"
      },
      "execution_count": null,
      "outputs": []
    },
    {
      "cell_type": "code",
      "execution_count": null,
      "metadata": {
        "colab": {
          "base_uri": "https://localhost:8080/"
        },
        "id": "v6lGHjpnTfbR",
        "outputId": "6336eb80-0ccc-4150-bf1f-2ae9c517c27c"
      },
      "outputs": [
        {
          "output_type": "stream",
          "name": "stdout",
          "text": [
            "Mounted at /content/gdrive\n"
          ]
        }
      ],
      "source": [
        "# Step 1\n",
        "# click Connect or Reconnect in the upper right corner of the notebook\n",
        "# Then link your google drive to this colab notebook\n",
        "# you will be asked to authenticate to your google drive\n",
        "from google.colab import drive\n",
        "drive.mount('/content/gdrive')"
      ]
    },
    {
      "cell_type": "code",
      "execution_count": null,
      "metadata": {
        "colab": {
          "base_uri": "https://localhost:8080/"
        },
        "id": "hxiF6lh6VnUY",
        "outputId": "031d7481-1d1e-4daf-cedc-b17374e1efce"
      },
      "outputs": [
        {
          "output_type": "stream",
          "name": "stdout",
          "text": [
            "/content\n"
          ]
        }
      ],
      "source": [
        "# confirm you are in the content folder\n",
        "!pwd"
      ]
    },
    {
      "cell_type": "code",
      "execution_count": null,
      "metadata": {
        "id": "3nRp3EXpVmQL",
        "colab": {
          "base_uri": "https://localhost:8080/"
        },
        "outputId": "fb47b449-bb1c-4998-8bbe-7e931b0bc622"
      },
      "outputs": [
        {
          "output_type": "stream",
          "name": "stdout",
          "text": [
            "gdrive\tsample_data\n"
          ]
        }
      ],
      "source": [
        "# confirm there is a gdrive folder in the content folder\n",
        "!ls"
      ]
    },
    {
      "cell_type": "code",
      "execution_count": null,
      "metadata": {
        "colab": {
          "base_uri": "https://localhost:8080/"
        },
        "id": "IDLZGpYoVrpn",
        "outputId": "fb223c04-88c3-4f87-b6c2-9799074e07b2"
      },
      "outputs": [
        {
          "output_type": "stream",
          "name": "stdout",
          "text": [
            "/content/gdrive/MyDrive\n"
          ]
        }
      ],
      "source": [
        "# goto the MyDrive directory.  this is the usual folder you see in Drive.\n",
        "%cd /content/gdrive/MyDrive"
      ]
    },
    {
      "cell_type": "code",
      "source": [
        "# confirm you can see your my drive content\n",
        "!ls"
      ],
      "metadata": {
        "id": "TqErv-IpMLsp"
      },
      "execution_count": null,
      "outputs": []
    },
    {
      "cell_type": "code",
      "execution_count": null,
      "metadata": {
        "id": "tU3GjZloWlXi"
      },
      "outputs": [],
      "source": [
        "# create a new directory called code. we'll pull our FedML github into this new directory\n",
        "!mkdir code"
      ]
    },
    {
      "cell_type": "code",
      "execution_count": null,
      "metadata": {
        "colab": {
          "base_uri": "https://localhost:8080/"
        },
        "id": "-lKoho8cWMjW",
        "outputId": "62617f72-8329-4fab-e093-69121a9e8c41"
      },
      "outputs": [
        {
          "output_type": "stream",
          "name": "stdout",
          "text": [
            "/content/gdrive/MyDrive/code\n"
          ]
        }
      ],
      "source": [
        "# change directory to the new code directory\n",
        "%cd code"
      ]
    },
    {
      "cell_type": "code",
      "source": [
        "# confirm new code directory is empty\n",
        "!ls"
      ],
      "metadata": {
        "id": "w-CPRojBf3z0"
      },
      "execution_count": null,
      "outputs": []
    },
    {
      "cell_type": "code",
      "execution_count": null,
      "metadata": {
        "id": "qRfPQk0aYD1b"
      },
      "outputs": [],
      "source": [
        "# Step 2\n",
        "# install fedml.  this can take a minute. wait until it finishes logging new information on the screen.\n",
        "# when a green check mark appears to the left of this cell, it's done.\n",
        "!pip3 install fedml"
      ]
    },
    {
      "cell_type": "code",
      "execution_count": null,
      "metadata": {
        "id": "oGWTv3m8YpH4"
      },
      "outputs": [],
      "source": [
        "# confirm that fedml command works by testing that it shows you the help with fedml options\n",
        "!fedml --help"
      ]
    },
    {
      "cell_type": "code",
      "execution_count": null,
      "metadata": {
        "id": "k7wje6DOWabT"
      },
      "outputs": [],
      "source": [
        "# Step 3\n",
        "# run git clone to the fedml github repository.  this can take a minute, wait until it finishes.\n",
        "!git clone https://github.com/FedML-AI/FedML"
      ]
    },
    {
      "cell_type": "code",
      "execution_count": null,
      "metadata": {
        "colab": {
          "base_uri": "https://localhost:8080/"
        },
        "id": "1eI7fIjHa4FD",
        "outputId": "f509578d-3f60-432d-aa7a-bede18f11c0f"
      },
      "outputs": [
        {
          "output_type": "stream",
          "name": "stdout",
          "text": [
            "FedML\n"
          ]
        }
      ],
      "source": [
        "# check that you have a new FedML directry (this has the fedml repository)\n",
        "!ls"
      ]
    },
    {
      "cell_type": "code",
      "source": [
        "# confirm we're still in the code directory\n",
        "!pwd"
      ],
      "metadata": {
        "colab": {
          "base_uri": "https://localhost:8080/"
        },
        "id": "Q-lNE_nxgPFR",
        "outputId": "3e81514f-e12a-472c-8a2b-2fd25f4d21f1"
      },
      "execution_count": null,
      "outputs": [
        {
          "output_type": "stream",
          "name": "stdout",
          "text": [
            "/content/gdrive/MyDrive/code\n"
          ]
        }
      ]
    },
    {
      "cell_type": "code",
      "execution_count": null,
      "metadata": {
        "id": "MZVs3fFMa8hN",
        "colab": {
          "base_uri": "https://localhost:8080/"
        },
        "outputId": "8acd33df-d183-4789-c45b-9b93b8be791b"
      },
      "outputs": [
        {
          "output_type": "stream",
          "name": "stdout",
          "text": [
            "/content/gdrive/MyDrive/code/FedML/python/examples/cross_silo/mqtt_s3_fedavg_mnist_lr_example/one_line\n"
          ]
        }
      ],
      "source": [
        "# change over to the one_line directory for the logistic regression with mnist date example\n",
        "%cd FedML/python/examples/cross_silo/mqtt_s3_fedavg_mnist_lr_example/one_line"
      ]
    },
    {
      "cell_type": "code",
      "execution_count": null,
      "metadata": {
        "id": "7z5NdwcybKUv"
      },
      "outputs": [],
      "source": [
        "# Step 4\n",
        "# run fedml build to create the client package file\n",
        "%%shell\n",
        "SOURCE=client\n",
        "ENTRY=torch_client.py\n",
        "CONFIG=config\n",
        "DEST=./mlops\n",
        "fedml build -t client -sf $SOURCE -ep $ENTRY -cf $CONFIG -df $DEST"
      ]
    },
    {
      "cell_type": "code",
      "execution_count": null,
      "metadata": {
        "colab": {
          "base_uri": "https://localhost:8080/"
        },
        "id": "e5xICfYTbj8t",
        "outputId": "99c1e5d8-b142-4d24-e4d4-d9b28d56f5cd"
      },
      "outputs": [
        {
          "output_type": "stream",
          "name": "stdout",
          "text": [
            "build_mlops_pkg.sh  config  README.md\t    run_client.sh   run_server.sh\n",
            "client\t\t    mlops   run_client.bat  run_server.bat  server\n"
          ]
        }
      ],
      "source": [
        "# confirm that a new mlops directory was created within this one_line directory\n",
        "!ls"
      ]
    },
    {
      "cell_type": "code",
      "execution_count": null,
      "metadata": {
        "id": "M9pIytECgCaG"
      },
      "outputs": [],
      "source": [
        "# Step 5\n",
        "# run fedml build to create the server package file\n",
        "%%shell\n",
        "SOURCE=server\n",
        "ENTRY=torch_server.py\n",
        "CONFIG=config\n",
        "DEST=./mlops\n",
        "fedml build -t server -sf $SOURCE -ep $ENTRY -cf $CONFIG -df $DEST"
      ]
    },
    {
      "cell_type": "code",
      "execution_count": null,
      "metadata": {
        "colab": {
          "base_uri": "https://localhost:8080/"
        },
        "id": "d_wtrA16gLZg",
        "outputId": "7b3155dd-4ba3-4686-a465-c56b86c722bb"
      },
      "outputs": [
        {
          "output_type": "stream",
          "name": "stdout",
          "text": [
            "/content/gdrive/MyDrive/code/FedML/python/examples/cross_silo/mqtt_s3_fedavg_mnist_lr_example/one_line/mlops/dist-packages\n"
          ]
        }
      ],
      "source": [
        "# confirm the new package files are there. goto the new directory that was automatically created by fedml build\n",
        "%cd mlops/dist-packages/"
      ]
    },
    {
      "cell_type": "code",
      "execution_count": null,
      "metadata": {
        "id": "2bDsY1YcgTfY",
        "colab": {
          "base_uri": "https://localhost:8080/"
        },
        "outputId": "09afd3e7-2862-44ae-c7f0-54bcb3781a36"
      },
      "outputs": [
        {
          "output_type": "stream",
          "name": "stdout",
          "text": [
            "client-package.zip  nohup.out  server-package.zip\n"
          ]
        }
      ],
      "source": [
        "# check the 2 zip files are there, a client and a server\n",
        "!ls"
      ]
    },
    {
      "cell_type": "code",
      "source": [
        "# next, download the 2 newly created zip files from your gdrive to your local machine\n",
        "# you can do this directly from here in Colab.\n",
        "# load the google files library\n",
        "from google.colab import files\n",
        "# download the client package to your local drive\n",
        "files.download('client-package.zip')"
      ],
      "metadata": {
        "colab": {
          "base_uri": "https://localhost:8080/",
          "height": 17
        },
        "id": "-Fc9v9J8XR9X",
        "outputId": "e1170cf2-71e5-4dd8-e87b-f4f41179a075"
      },
      "execution_count": null,
      "outputs": [
        {
          "output_type": "display_data",
          "data": {
            "text/plain": [
              "<IPython.core.display.Javascript object>"
            ],
            "application/javascript": [
              "\n",
              "    async function download(id, filename, size) {\n",
              "      if (!google.colab.kernel.accessAllowed) {\n",
              "        return;\n",
              "      }\n",
              "      const div = document.createElement('div');\n",
              "      const label = document.createElement('label');\n",
              "      label.textContent = `Downloading \"${filename}\": `;\n",
              "      div.appendChild(label);\n",
              "      const progress = document.createElement('progress');\n",
              "      progress.max = size;\n",
              "      div.appendChild(progress);\n",
              "      document.body.appendChild(div);\n",
              "\n",
              "      const buffers = [];\n",
              "      let downloaded = 0;\n",
              "\n",
              "      const channel = await google.colab.kernel.comms.open(id);\n",
              "      // Send a message to notify the kernel that we're ready.\n",
              "      channel.send({})\n",
              "\n",
              "      for await (const message of channel.messages) {\n",
              "        // Send a message to notify the kernel that we're ready.\n",
              "        channel.send({})\n",
              "        if (message.buffers) {\n",
              "          for (const buffer of message.buffers) {\n",
              "            buffers.push(buffer);\n",
              "            downloaded += buffer.byteLength;\n",
              "            progress.value = downloaded;\n",
              "          }\n",
              "        }\n",
              "      }\n",
              "      const blob = new Blob(buffers, {type: 'application/binary'});\n",
              "      const a = document.createElement('a');\n",
              "      a.href = window.URL.createObjectURL(blob);\n",
              "      a.download = filename;\n",
              "      div.appendChild(a);\n",
              "      a.click();\n",
              "      div.remove();\n",
              "    }\n",
              "  "
            ]
          },
          "metadata": {}
        },
        {
          "output_type": "display_data",
          "data": {
            "text/plain": [
              "<IPython.core.display.Javascript object>"
            ],
            "application/javascript": [
              "download(\"download_7468342a-7504-4134-86c4-1d03f6b50915\", \"client-package.zip\", 3257)"
            ]
          },
          "metadata": {}
        }
      ]
    },
    {
      "cell_type": "code",
      "source": [
        "# download the aggregation server package to your local drive\n",
        "files.download('server-package.zip')"
      ],
      "metadata": {
        "colab": {
          "base_uri": "https://localhost:8080/",
          "height": 17
        },
        "id": "kZUX5E58X3fv",
        "outputId": "da82e379-5c0b-4227-d7a0-b7aaa48f0b28"
      },
      "execution_count": null,
      "outputs": [
        {
          "output_type": "display_data",
          "data": {
            "text/plain": [
              "<IPython.core.display.Javascript object>"
            ],
            "application/javascript": [
              "\n",
              "    async function download(id, filename, size) {\n",
              "      if (!google.colab.kernel.accessAllowed) {\n",
              "        return;\n",
              "      }\n",
              "      const div = document.createElement('div');\n",
              "      const label = document.createElement('label');\n",
              "      label.textContent = `Downloading \"${filename}\": `;\n",
              "      div.appendChild(label);\n",
              "      const progress = document.createElement('progress');\n",
              "      progress.max = size;\n",
              "      div.appendChild(progress);\n",
              "      document.body.appendChild(div);\n",
              "\n",
              "      const buffers = [];\n",
              "      let downloaded = 0;\n",
              "\n",
              "      const channel = await google.colab.kernel.comms.open(id);\n",
              "      // Send a message to notify the kernel that we're ready.\n",
              "      channel.send({})\n",
              "\n",
              "      for await (const message of channel.messages) {\n",
              "        // Send a message to notify the kernel that we're ready.\n",
              "        channel.send({})\n",
              "        if (message.buffers) {\n",
              "          for (const buffer of message.buffers) {\n",
              "            buffers.push(buffer);\n",
              "            downloaded += buffer.byteLength;\n",
              "            progress.value = downloaded;\n",
              "          }\n",
              "        }\n",
              "      }\n",
              "      const blob = new Blob(buffers, {type: 'application/binary'});\n",
              "      const a = document.createElement('a');\n",
              "      a.href = window.URL.createObjectURL(blob);\n",
              "      a.download = filename;\n",
              "      div.appendChild(a);\n",
              "      a.click();\n",
              "      div.remove();\n",
              "    }\n",
              "  "
            ]
          },
          "metadata": {}
        },
        {
          "output_type": "display_data",
          "data": {
            "text/plain": [
              "<IPython.core.display.Javascript object>"
            ],
            "application/javascript": [
              "download(\"download_a70c9a28-da96-4aa3-aabc-768810aba9fc\", \"server-package.zip\", 3254)"
            ]
          },
          "metadata": {}
        }
      ]
    },
    {
      "cell_type": "code",
      "source": [
        "# Step 6\n",
        "# at this you should have 2 -package.zip files downloaded to your local machine or laptop.\n",
        "# Please check your local machine's Downloads folder or equivalent for your machine\n",
        "# confirm the 2 package zip files are there.\n",
        "#   if they are not there, you can goto your Google Drive and check in that new mlops directory as described above.\n",
        "#   if you are checking Google Drive, be sure you are in the correct Google drive account. It should be same as the one you mounted to up in Step 1 of this colab.\n",
        "# Once you confirm the files are on your local disk..\n",
        "# Then goto the web browser to https://open.fedml.ai, goto Octopus, and create a new Application, and attach these 2 files to the new application\n",
        "# see the blog's Step 4 for creating an Application https://blog.fedml.ai/fedml-octopus-getting-started-federated-machine-learning/\n",
        "# after you finish the Blog Step 4, then return here for the next steps of binding a client and a server to fedml"
      ],
      "metadata": {
        "id": "mS4yRArHwgDB"
      },
      "execution_count": null,
      "outputs": []
    },
    {
      "cell_type": "code",
      "execution_count": null,
      "metadata": {
        "colab": {
          "base_uri": "https://localhost:8080/"
        },
        "id": "1eiYgcIFhjxV",
        "outputId": "9c779e43-147e-407d-859f-061ff0feebfc"
      },
      "outputs": [
        {
          "output_type": "stream",
          "name": "stdout",
          "text": [
            "nohup: appending output to 'nohup.out'\n",
            "nohup: failed to run command 'fedml': No such file or directory\n"
          ]
        }
      ],
      "source": [
        "# Step 7\n",
        "# bind a client edge to your fedml account\n",
        "# after creating the application in fedml.ai, then come back to this colab\n",
        "# run fedml login to your fedml account id to setup client edge bind\n",
        "# replace [your-account-id] in the command below with your 4 digit #\n",
        "# note that the nohup and & are important to include as shown as this allows this step to run in the background so you can run additional commands in colab\n",
        "# You should get a response like \"nohup: appending output to 'nohup.out'\".  if u don't try again\n",
        "\n",
        "!nohup fedml login [your-account-id] &"
      ]
    },
    {
      "cell_type": "code",
      "execution_count": null,
      "metadata": {
        "id": "B5c34XUehxS7",
        "colab": {
          "base_uri": "https://localhost:8080/"
        },
        "outputId": "7354d9f8-aff5-48cf-bcbc-3ffa211d8d78"
      },
      "outputs": [
        {
          "output_type": "stream",
          "name": "stdout",
          "text": [
            "nohup: appending output to 'nohup.out'\n",
            "nohup: failed to run command 'fedml': No such file or directory\n"
          ]
        }
      ],
      "source": [
        "# Step 8\n",
        "# bind an aggregation server to your fedml account\n",
        "# Note: this Colab instance may not have enough memory to run both the client and aggregation server.\n",
        "#       you will get an error when trying to train if so.\n",
        "#       to work around this issue, or do it now just for more chance of success:\n",
        "#       Open another colab instance, and run !pip3 install fedml and this block's !nohup fedml login -s [your-account-id] &\n",
        "#       there.\n",
        "\n",
        "!nohup fedml login -s [your-account-id] &"
      ]
    },
    {
      "cell_type": "code",
      "source": [
        "# Steps 9 and 10\n",
        "# go back to your browser http://openfedml.ai and goto Octopus\n",
        "# click Edge Device, and you should see 2 items added to your list. One of them mentions aggregation server.\n",
        "# if you don't see the new devices added, check that step 7 and 8 completed properly.\n",
        "\n",
        "# then you can follow from our Blogs's step 7 here:\n",
        "https://blog.fedml.ai/fedml-octopus-getting-started-federated-machine-learning/#7-build-a-new-project-in-fedml-octopus-mlops\n",
        "# here's what you will be doing:\n",
        "# create a new Project, new Run and select the application you previously created\n",
        "# and you should be able to select the client and server you created here in colab\n",
        "# And start a new training run.  Let it run.\n",
        "# Congratuations!!, you've completed a federated demo from Colab."
      ],
      "metadata": {
        "id": "S3ixO79aqrT5"
      },
      "execution_count": null,
      "outputs": []
    },
    {
      "cell_type": "code",
      "source": [
        "# optional Step 11\n",
        "# check that nohup.out logs file for things like the client or server id\n",
        "!cat nohup.out"
      ],
      "metadata": {
        "id": "rMw0dP6hiNDi"
      },
      "execution_count": null,
      "outputs": []
    },
    {
      "cell_type": "code",
      "source": [
        "# Bonus!\n",
        "# to create another edge silo using colab, start a new tab in your browser. In the new tab goto colab.research.google.com and run just 2 lines in the new notebook:\n",
        "# remove the # of course:\n",
        "# !pip3 install fedml\n",
        "# !nohup fedml login [your-account-id] &\n"
      ],
      "metadata": {
        "id": "X7PBeTbcrlhR"
      },
      "execution_count": null,
      "outputs": []
    },
    {
      "cell_type": "code",
      "source": [
        "# to sign out\n",
        "# you can either close out the browser or logout of fedml\n",
        "!fedml logout"
      ],
      "metadata": {
        "id": "DipM73KoyvE3"
      },
      "execution_count": null,
      "outputs": []
    },
    {
      "cell_type": "code",
      "source": [
        "!fedml logout -c"
      ],
      "metadata": {
        "id": "eteKSs02y7jv"
      },
      "execution_count": null,
      "outputs": []
    }
  ],
  "metadata": {
    "colab": {
      "provenance": [],
      "include_colab_link": true
    },
    "kernelspec": {
      "display_name": "Python 3",
      "name": "python3"
    },
    "language_info": {
      "name": "python"
    }
  },
  "nbformat": 4,
  "nbformat_minor": 0
}